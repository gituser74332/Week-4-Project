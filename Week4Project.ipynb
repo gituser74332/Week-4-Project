{
 "cells": [
  {
   "cell_type": "markdown",
   "id": "8f518e5c-b6b0-4be9-a25b-c2cef3db355f",
   "metadata": {},
   "source": [
    "# My Jupyter Notebook on IBM Watson Studio"
   ]
  },
  {
   "cell_type": "markdown",
   "id": "7e5c7e41-e131-4ed6-9b40-3f35173123da",
   "metadata": {},
   "source": [
    " **Kavin**<br>Data Scientist"
   ]
  },
  {
   "cell_type": "markdown",
   "id": "e3fe0a2d-6a9e-4a25-b5ee-94907307ca0e",
   "metadata": {},
   "source": [
    "_I am interested in data science because the field is rapidly growing along with opportunities for individuals to leave a lasting impact using the power of data._"
   ]
  },
  {
   "cell_type": "markdown",
   "id": "03d47e0d-f7db-4560-9ed9-a9139c0f8a39",
   "metadata": {},
   "source": [
    "### The code segment below prints the sum of two numbers: 6 and 7"
   ]
  },
  {
   "cell_type": "code",
   "execution_count": 1,
   "id": "7f7b0022-bc40-460a-8fcf-b6e571ce58c7",
   "metadata": {},
   "outputs": [
    {
     "name": "stdout",
     "output_type": "stream",
     "text": [
      "13\n"
     ]
    }
   ],
   "source": [
    "print(6 + 7)"
   ]
  },
  {
   "cell_type": "markdown",
   "id": "5becfc64-14b7-453b-93e4-fb74304b1664",
   "metadata": {},
   "source": [
    "<hr>\n",
    "<strong>Few Data Science Libraries</strong>\n",
    "<ol>\n",
    "    <li>Numpy</li>\n",
    "    <li>Pandas</li>\n",
    "    <li>Matplotlib</li>\n",
    "    <li>Seaborn</li>\n",
    "</ol>\n",
    "<a href=\"https://encrypted-tbn0.gstatic.com/images?q=tbn:ANd9GcR_VfYfuw4JGQC0QLtbrhWyAQgW9qD9fXanG34lWGAyI1y34PxtAPagPNkCTAoX7_x7sFw&usqp=CAU\">Numpy Logo</a>"
   ]
  },
  {
   "cell_type": "code",
   "execution_count": null,
   "id": "93a9f235-a981-4cfc-ba44-a1c175334d7c",
   "metadata": {},
   "outputs": [],
   "source": []
  },
  {
   "cell_type": "code",
   "execution_count": null,
   "id": "01105eeb-dcb8-4914-adf7-37a5ce07e09c",
   "metadata": {},
   "outputs": [],
   "source": []
  }
 ],
 "metadata": {
  "kernelspec": {
   "display_name": "Python",
   "language": "python",
   "name": "conda-env-python-py"
  },
  "language_info": {
   "codemirror_mode": {
    "name": "ipython",
    "version": 3
   },
   "file_extension": ".py",
   "mimetype": "text/x-python",
   "name": "python",
   "nbconvert_exporter": "python",
   "pygments_lexer": "ipython3",
   "version": "3.7.12"
  }
 },
 "nbformat": 4,
 "nbformat_minor": 5
}
